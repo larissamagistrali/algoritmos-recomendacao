{
  "cells": [
    {
      "cell_type": "markdown",
      "metadata": {},
      "source": [
        "# Filtragem Colaborativa Baseada em Item"
      ]
    },
    {
      "cell_type": "code",
      "execution_count": 2,
      "metadata": {
        "id": "0XDcpYzu_0Gi"
      },
      "outputs": [],
      "source": [
        "import pandas as pd\n",
        "from sklearn.metrics.pairwise import cosine_similarity\n",
        "import numpy as np\n",
        "import os"
      ]
    },
    {
      "cell_type": "code",
      "execution_count": null,
      "metadata": {
        "id": "TzOJ8JKsALaR"
      },
      "outputs": [],
      "source": [
        "# --- 1. Carregar os dados ---\n",
        "path = \"ds/\"\n",
        "\n",
        "customers_df = pd.read_csv(path+'olist_customers_dataset.csv')\n",
        "geolocation_df = pd.read_csv(path+'olist_geolocation_dataset.csv')\n",
        "orders_items_df = pd.read_csv(path+'olist_order_items_dataset.csv')\n",
        "order_payments_df = pd.read_csv(path+'olist_order_payments_dataset.csv')\n",
        "order_reviews_df = pd.read_csv(path+'olist_order_reviews_dataset.csv')\n",
        "orders_df = pd.read_csv(path+'olist_orders_dataset.csv')\n",
        "products_df = pd.read_csv(path+'olist_products_dataset.csv')\n",
        "sellers_df = pd.read_csv(path+'olist_sellers_dataset.csv')\n",
        "product_category_name_translation = pd.read_csv(path+'product_category_name_translation.csv')\n"
      ]
    },
    {
      "cell_type": "code",
      "execution_count": 4,
      "metadata": {
        "colab": {
          "base_uri": "https://localhost:8080/"
        },
        "id": "DCE_wY0rAkO8",
        "outputId": "f88e2c53-c5c2-4bd5-ccd1-3754a9f9c4df"
      },
      "outputs": [
        {
          "name": "stdout",
          "output_type": "stream",
          "text": [
            "orders_df: Index(['order_id', 'customer_id', 'order_status', 'order_purchase_timestamp',\n",
            "       'order_approved_at', 'order_delivered_carrier_date',\n",
            "       'order_delivered_customer_date', 'order_estimated_delivery_date'],\n",
            "      dtype='object')\n",
            "products_df: Index(['product_id', 'product_category_name', 'product_name_lenght',\n",
            "       'product_description_lenght', 'product_photos_qty', 'product_weight_g',\n",
            "       'product_length_cm', 'product_height_cm', 'product_width_cm'],\n",
            "      dtype='object')\n",
            "customers_df: Index(['customer_id', 'customer_unique_id', 'customer_zip_code_prefix',\n",
            "       'customer_city', 'customer_state'],\n",
            "      dtype='object')\n",
            "geolocation_df: Index(['geolocation_zip_code_prefix', 'geolocation_lat', 'geolocation_lng',\n",
            "       'geolocation_city', 'geolocation_state'],\n",
            "      dtype='object')\n",
            "orders_items_df: Index(['order_id', 'order_item_id', 'product_id', 'seller_id',\n",
            "       'shipping_limit_date', 'price', 'freight_value'],\n",
            "      dtype='object')\n",
            "order_payments_df: Index(['order_id', 'payment_sequential', 'payment_type',\n",
            "       'payment_installments', 'payment_value'],\n",
            "      dtype='object')\n",
            "order_reviews_df: Index(['review_id', 'order_id', 'review_score', 'review_comment_title',\n",
            "       'review_comment_message', 'review_creation_date',\n",
            "       'review_answer_timestamp'],\n",
            "      dtype='object')\n",
            "sellers_df: Index(['seller_id', 'seller_zip_code_prefix', 'seller_city', 'seller_state'], dtype='object')\n",
            "product_category_name_translation: Index(['product_category_name', 'product_category_name_english'], dtype='object')\n",
            "\n"
          ]
        }
      ],
      "source": [
        "print(\n",
        "    f\"orders_df: {orders_df.columns}\\n\"\n",
        "    f\"products_df: {products_df.columns}\\n\"\n",
        "    f\"customers_df: {customers_df.columns}\\n\"\n",
        "    f\"geolocation_df: {geolocation_df.columns}\\n\"\n",
        "    f\"orders_items_df: {orders_items_df.columns}\\n\"\n",
        "    f\"order_payments_df: {order_payments_df.columns}\\n\"\n",
        "    f\"order_reviews_df: {order_reviews_df.columns}\\n\"\n",
        "    f\"sellers_df: {sellers_df.columns}\\n\"\n",
        "    f\"product_category_name_translation: {product_category_name_translation.columns}\\n\"\n",
        ")"
      ]
    },
    {
      "cell_type": "code",
      "execution_count": null,
      "metadata": {},
      "outputs": [
        {
          "name": "stderr",
          "output_type": "stream",
          "text": [
            "/var/folders/96/wgrm9ygd6qb8n9h5g15qynww0000gq/T/ipykernel_19719/2751491204.py:13: PerformanceWarning: The following operation may generate 3251143366 cells in the resulting pandas object.\n",
            "  user_item_matrix = product_counts.pivot_table(\n"
          ]
        },
        {
          "data": {
            "text/plain": [
              "0"
            ]
          },
          "execution_count": 5,
          "metadata": {},
          "output_type": "execute_result"
        }
      ],
      "source": [
        "# --- 2. Preparar os dados para o modelo  ---\n",
        "orders_customers_df = orders_df.merge(customers_df, on='customer_id')\n",
        "\n",
        "# Agora, vamos unir o resultado com products_df e orders_items_df to get product_id and other relevant columns\n",
        "data_merged = orders_customers_df.merge(orders_items_df, on='order_id').merge(products_df, on='product_id')\n",
        "\n",
        "# Passo 2.2: Contar a frequência de compra de cada produto por cada cliente\n",
        "product_counts = data_merged.groupby(['customer_id', 'product_id']).size().reset_index(name='purchase_count')\n",
        "\n",
        "# Passo 2.3: Criar a matriz de interações (usuário x item)\n",
        "user_item_matrix = product_counts.pivot_table(\n",
        "    index='customer_id',\n",
        "    columns='product_id',\n",
        "    values='purchase_count'\n",
        ").fillna(0)\n",
        "\n",
        "# Passo 2.4: Unir as informações de produto com a tabela de tradução\n",
        "products_with_names = products_df.merge(product_category_name_translation, on='product_category_name', how='left')\n",
        "\n",
        "os.system('say \"bip\"')"
      ]
    },
    {
      "cell_type": "code",
      "execution_count": null,
      "metadata": {
        "colab": {
          "base_uri": "https://localhost:8080/"
        },
        "id": "CNUZOWv0Ad0D",
        "outputId": "d8c3fd4f-d1fc-4cdb-8e4d-63b461c9015e"
      },
      "outputs": [
        {
          "data": {
            "text/plain": [
              "0"
            ]
          },
          "execution_count": 6,
          "metadata": {},
          "output_type": "execute_result"
        }
      ],
      "source": [
        "# --- 3. Treinar o modelo de recomendação (Filtragem Colaborativa) ---\n",
        "# Calcular a similaridade do cosseno entre os produtos\n",
        "item_similarity = cosine_similarity(user_item_matrix.T)\n",
        "\n",
        "# Converter a matriz de similaridade para um DataFrame\n",
        "item_similarity_df = pd.DataFrame(item_similarity, index=user_item_matrix.columns, columns=user_item_matrix.columns)"
      ]
    },
    {
      "cell_type": "code",
      "execution_count": 13,
      "metadata": {
        "id": "63OVrl_6F3VN"
      },
      "outputs": [],
      "source": [
        "# --- 4. Função de Recomendação ---\n",
        "def get_recommendations(product_id, n=5):\n",
        "    \"\"\"\n",
        "    Retorna os N produtos mais similares a um produto dado.\n",
        "    \"\"\"\n",
        "    if product_id not in item_similarity_df.columns:\n",
        "        return \"Produto não encontrado no conjunto de dados de treino.\"\n",
        "\n",
        "    # Obter a série de similaridade para o produto\n",
        "    similar_scores = item_similarity_df[product_id]\n",
        "\n",
        "    # Ordenar os produtos pela similaridade e pegar os N mais próximos\n",
        "    similar_products_ids = similar_scores.sort_values(ascending=False).index[1:n+1].tolist()\n",
        "    \n",
        "    # Adicionar o nome da categoria para uma melhor visualização\n",
        "    recommended_info = products_with_names[products_with_names['product_id'].isin(similar_products_ids)]\n",
        "    \n",
        "    return recommended_info[['product_id', 'product_category_name']]"
      ]
    },
    {
      "cell_type": "code",
      "execution_count": null,
      "metadata": {},
      "outputs": [
        {
          "name": "stdout",
          "output_type": "stream",
          "text": [
            "Recomendações para o produto: 37dffde0476450e75dae423136954b0f (automotivo)\n",
            "                             product_id product_category_name\n",
            "318    8a2d3285de64b2117fbf83784acd09fc            automotivo\n",
            "3508   ab9730d0380f2a4bb056dbed9417478a            brinquedos\n",
            "18874  ab959a147167f22f3e0c05eb06845771           eletronicos\n",
            "23971  aba0c26e6fcc5a413da7fcfad4b04ac1            perfumaria\n",
            "31688  00066f42aeeb9f3007548bb9d3f33c38            perfumaria\n"
          ]
        }
      ],
      "source": [
        "# --- 5. Exemplo de uso ---\n",
        "example_product_id = '37dffde0476450e75dae423136954b0f'\n",
        "\n",
        "# Buscar o nome da categoria do produto\n",
        "product_row = products_with_names[products_with_names['product_id'] == example_product_id]\n",
        "if not product_row.empty:\n",
        "    product_name = product_row.iloc[0]['product_category_name']\n",
        "else:\n",
        "    product_name = 'Categoria desconhecida'\n",
        "\n",
        "print(f\"Recomendações para o produto: {example_product_id} ({product_name})\")\n",
        "\n",
        "recommendations = get_recommendations(example_product_id, n=5)\n",
        "\n",
        "if isinstance(recommendations, str):\n",
        "    print(recommendations)\n",
        "else:\n",
        "    print(recommendations)"
      ]
    },
    {
      "cell_type": "markdown",
      "metadata": {},
      "source": [
        "# Filtragem Colaborativa Baseada em Usuário"
      ]
    },
    {
      "cell_type": "code",
      "execution_count": 8,
      "metadata": {},
      "outputs": [
        {
          "name": "stderr",
          "output_type": "stream",
          "text": [
            "/var/folders/96/wgrm9ygd6qb8n9h5g15qynww0000gq/T/ipykernel_22730/2696362612.py:10: PerformanceWarning: The following operation may generate 3251143366 cells in the resulting pandas object.\n",
            "  user_item_matrix = user_item.pivot_table(\n"
          ]
        },
        {
          "ename": "",
          "evalue": "",
          "output_type": "error",
          "traceback": [
            "\u001b[1;31mThe Kernel crashed while executing code in the current cell or a previous cell. \n",
            "\u001b[1;31mPlease review the code in the cell(s) to identify a possible cause of the failure. \n",
            "\u001b[1;31mClick <a href='https://aka.ms/vscodeJupyterKernelCrash'>here</a> for more info. \n",
            "\u001b[1;31mView Jupyter <a href='command:jupyter.viewOutput'>log</a> for further details."
          ]
        }
      ],
      "source": [
        "import pandas as pd\n",
        "from sklearn.metrics.pairwise import cosine_similarity\n",
        "\n",
        "# Carregar dados\n",
        "orders = pd.read_csv('ds/olist_orders_dataset.csv')\n",
        "order_items = pd.read_csv('ds/olist_order_items_dataset.csv')\n",
        "\n",
        "# Matriz usuário x item: linhas = clientes, colunas = produtos, valores = quantidade de compras\n",
        "user_item = order_items.merge(orders, on='order_id')\n",
        "user_item_matrix = user_item.pivot_table(\n",
        "    index='customer_id',\n",
        "    columns='product_id',\n",
        "    values='order_item_id',\n",
        "    aggfunc='count'\n",
        ").fillna(0)\n",
        "\n",
        "# Similaridade entre usuários\n",
        "user_similarity = cosine_similarity(user_item_matrix)\n",
        "user_similarity_df = pd.DataFrame(user_similarity, index=user_item_matrix.index, columns=user_item_matrix.index)\n",
        "\n",
        "# Função de recomendação baseada em usuário\n",
        "def recommend_by_user(customer_id, n=5):\n",
        "    if customer_id not in user_similarity_df.index:\n",
        "        return \"Usuário não encontrado.\"\n",
        "    similar_users = user_similarity_df[customer_id].sort_values(ascending=False).index[1:n+1]\n",
        "    products = user_item[user_item['customer_id'].isin(similar_users)]['product_id'].value_counts().index.tolist()\n",
        "    return products[:n]\n",
        "\n",
        "# Exemplo de uso: recomendações para o primeiro cliente da matriz\n",
        "print(recommend_by_user(user_item_matrix.index[0]))"
      ]
    },
    {
      "cell_type": "markdown",
      "metadata": {},
      "source": [
        "# Recomendação Baseada em Conteúdo"
      ]
    },
    {
      "cell_type": "code",
      "execution_count": 2,
      "metadata": {},
      "outputs": [
        {
          "name": "stdout",
          "output_type": "stream",
          "text": [
            "['69918318f27e9853c6d2a68906018a14', '0de1e69dff6f40f9f71be7034a8bb8d2', 'ca3d8213acc967dd4e7c85c05406f71f', '9fa1e97015f5c5e76add50079bb0ab44', '2ada60128014f639dffa4a481cd1255a']\n"
          ]
        }
      ],
      "source": [
        "from sklearn.feature_extraction.text import TfidfVectorizer\n",
        "\n",
        "products = pd.read_csv('ds/olist_products_dataset.csv')\n",
        "\n",
        "# Usando apenas a categoria como conteúdo\n",
        "tfidf = TfidfVectorizer()\n",
        "tfidf_matrix = tfidf.fit_transform(products['product_category_name'].fillna(''))\n",
        "\n",
        "cos_sim = cosine_similarity(tfidf_matrix)\n",
        "cos_sim_df = pd.DataFrame(cos_sim, index=products['product_id'], columns=products['product_id'])\n",
        "\n",
        "def recommend_by_content(product_id, n=5):\n",
        "    if product_id not in cos_sim_df.columns:\n",
        "        return \"Produto não encontrado.\"\n",
        "    similar_products = cos_sim_df[product_id].sort_values(ascending=False).index[1:n+1]\n",
        "    return similar_products.tolist()\n",
        "\n",
        "print(recommend_by_content(products['product_id'].iloc[0]))"
      ]
    },
    {
      "cell_type": "markdown",
      "metadata": {},
      "source": [
        "# Recomendação por Popularidade"
      ]
    },
    {
      "cell_type": "code",
      "execution_count": 3,
      "metadata": {},
      "outputs": [
        {
          "name": "stdout",
          "output_type": "stream",
          "text": [
            "Mais vendidos: ['aca2eb7d00ea1a7b8ebd4e68314663af', '99a4788cb24856965c36a24e339b6058', '422879e10f46682990de24d770e7f83d', '389d119b48cf3043d311335e499d9c6b', '368c6c730842d78016ad823897a372db']\n"
          ]
        }
      ],
      "source": [
        "# Produtos mais vendidos\n",
        "popular_products = order_items['product_id'].value_counts().head(5)\n",
        "print(\"Mais vendidos:\", popular_products.index.tolist())"
      ]
    },
    {
      "cell_type": "markdown",
      "metadata": {},
      "source": [
        "# Recomendação Personalizada por Perfil"
      ]
    },
    {
      "cell_type": "code",
      "execution_count": 4,
      "metadata": {},
      "outputs": [
        {
          "name": "stdout",
          "output_type": "stream",
          "text": [
            "Mais populares em SP: ['aca2eb7d00ea1a7b8ebd4e68314663af', '99a4788cb24856965c36a24e339b6058', '422879e10f46682990de24d770e7f83d', '368c6c730842d78016ad823897a372db', '389d119b48cf3043d311335e499d9c6b']\n"
          ]
        }
      ],
      "source": [
        "# Exemplo: produtos mais comprados por clientes de SP\n",
        "customers = pd.read_csv('ds/olist_customers_dataset.csv')\n",
        "orders_customers = orders.merge(customers, on='customer_id')\n",
        "sp_orders = orders_customers[orders_customers['customer_state'] == 'SP']\n",
        "sp_items = order_items[order_items['order_id'].isin(sp_orders['order_id'])]\n",
        "sp_popular = sp_items['product_id'].value_counts().head(5)\n",
        "print(\"Mais populares em SP:\", sp_popular.index.tolist())"
      ]
    },
    {
      "cell_type": "markdown",
      "metadata": {},
      "source": [
        "# Recomendação por Sazonalidade/Tempo"
      ]
    },
    {
      "cell_type": "code",
      "execution_count": 5,
      "metadata": {},
      "outputs": [
        {
          "name": "stdout",
          "output_type": "stream",
          "text": [
            "Mais vendidos em dezembro: ['422879e10f46682990de24d770e7f83d', '4c2394abfbac7ff59ec7a420918562fa', 'aca2eb7d00ea1a7b8ebd4e68314663af', '368c6c730842d78016ad823897a372db', '53759a2ecddad2bb87a079a1f1519f73']\n"
          ]
        }
      ],
      "source": [
        "orders['order_purchase_timestamp'] = pd.to_datetime(orders['order_purchase_timestamp'])\n",
        "orders['month'] = orders['order_purchase_timestamp'].dt.month\n",
        "# Produtos mais vendidos em dezembro\n",
        "dez_orders = orders[orders['month'] == 12]\n",
        "dez_items = order_items[order_items['order_id'].isin(dez_orders['order_id'])]\n",
        "dez_popular = dez_items['product_id'].value_counts().head(5)\n",
        "print(\"Mais vendidos em dezembro:\", dez_popular.index.tolist())"
      ]
    },
    {
      "cell_type": "markdown",
      "metadata": {},
      "source": [
        "# Recomendação Baseada em Avaliações"
      ]
    },
    {
      "cell_type": "code",
      "execution_count": 6,
      "metadata": {},
      "outputs": [
        {
          "name": "stdout",
          "output_type": "stream",
          "text": [
            "Produtos melhor avaliados: ['00066f42aeeb9f3007548bb9d3f33c38', '60314cbf527af04ebc935be7c02dc1cd', '5fe23e6307c231e287f13c0a4be06c88', '5fe490e61e7a37f2f0d1ad1771ac027d', 'c696cd2db7870be08c37822f7c0ef831']\n"
          ]
        }
      ],
      "source": [
        "reviews = pd.read_csv('ds/olist_order_reviews_dataset.csv')\n",
        "order_items_reviews = order_items.merge(reviews, on='order_id')\n",
        "best_rated = order_items_reviews.groupby('product_id')['review_score'].mean().sort_values(ascending=False).head(5)\n",
        "print(\"Produtos melhor avaliados:\", best_rated.index.tolist())"
      ]
    },
    {
      "cell_type": "markdown",
      "metadata": {},
      "source": [
        "# Recomendação Cross-sell (produtos comprados juntos)"
      ]
    },
    {
      "cell_type": "code",
      "execution_count": 7,
      "metadata": {},
      "outputs": [
        {
          "name": "stdout",
          "output_type": "stream",
          "text": [
            "Pares de produtos mais comprados juntos: [(('422879e10f46682990de24d770e7f83d', '422879e10f46682990de24d770e7f83d'), 279), (('ee3d532c8a438679776d222e997606b3', 'ee3d532c8a438679776d222e997606b3'), 195), (('9571759451b1d780ee7c15012ea109d4', '9571759451b1d780ee7c15012ea109d4'), 190), (('a62e25e09e05e6faf31d90c6ec1aa3d1', 'a62e25e09e05e6faf31d90c6ec1aa3d1'), 141), (('368c6c730842d78016ad823897a372db', '368c6c730842d78016ad823897a372db'), 139)]\n"
          ]
        }
      ],
      "source": [
        "# Produtos frequentemente comprados juntos\n",
        "from itertools import combinations\n",
        "from collections import Counter\n",
        "\n",
        "order_products = order_items.groupby('order_id')['product_id'].apply(list)\n",
        "pairs = Counter()\n",
        "for products in order_products:\n",
        "    for combo in combinations(sorted(products), 2):\n",
        "        pairs[combo] += 1\n",
        "print(\"Pares de produtos mais comprados juntos:\", pairs.most_common(5))"
      ]
    }
  ],
  "metadata": {
    "colab": {
      "provenance": [],
      "toc_visible": true
    },
    "kernelspec": {
      "display_name": "Python 3",
      "name": "python3"
    },
    "language_info": {
      "codemirror_mode": {
        "name": "ipython",
        "version": 3
      },
      "file_extension": ".py",
      "mimetype": "text/x-python",
      "name": "python",
      "nbconvert_exporter": "python",
      "pygments_lexer": "ipython3",
      "version": "3.12.5"
    }
  },
  "nbformat": 4,
  "nbformat_minor": 0
}
